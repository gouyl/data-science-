{
 "cells": [
  {
   "cell_type": "code",
   "execution_count": 4,
   "metadata": {
    "collapsed": false
   },
   "outputs": [
    {
     "data": {
      "text/html": [
       "<div>\n",
       "<table border=\"1\" class=\"dataframe\">\n",
       "  <thead>\n",
       "    <tr style=\"text-align: right;\">\n",
       "      <th></th>\n",
       "      <th>PassengerId</th>\n",
       "      <th>Survived</th>\n",
       "      <th>Pclass</th>\n",
       "      <th>Name</th>\n",
       "      <th>Sex</th>\n",
       "      <th>Age</th>\n",
       "      <th>SibSp</th>\n",
       "      <th>Parch</th>\n",
       "      <th>Ticket</th>\n",
       "      <th>Fare</th>\n",
       "      <th>Cabin</th>\n",
       "      <th>Embarked</th>\n",
       "    </tr>\n",
       "  </thead>\n",
       "  <tbody>\n",
       "    <tr>\n",
       "      <th>0</th>\n",
       "      <td>1</td>\n",
       "      <td>0</td>\n",
       "      <td>3</td>\n",
       "      <td>Braund, Mr. Owen Harris</td>\n",
       "      <td>male</td>\n",
       "      <td>22.0</td>\n",
       "      <td>1</td>\n",
       "      <td>0</td>\n",
       "      <td>A/5 21171</td>\n",
       "      <td>7.2500</td>\n",
       "      <td>NaN</td>\n",
       "      <td>S</td>\n",
       "    </tr>\n",
       "    <tr>\n",
       "      <th>1</th>\n",
       "      <td>2</td>\n",
       "      <td>1</td>\n",
       "      <td>1</td>\n",
       "      <td>Cumings, Mrs. John Bradley (Florence Briggs Th...</td>\n",
       "      <td>female</td>\n",
       "      <td>38.0</td>\n",
       "      <td>1</td>\n",
       "      <td>0</td>\n",
       "      <td>PC 17599</td>\n",
       "      <td>71.2833</td>\n",
       "      <td>C85</td>\n",
       "      <td>C</td>\n",
       "    </tr>\n",
       "    <tr>\n",
       "      <th>2</th>\n",
       "      <td>3</td>\n",
       "      <td>1</td>\n",
       "      <td>3</td>\n",
       "      <td>Heikkinen, Miss. Laina</td>\n",
       "      <td>female</td>\n",
       "      <td>26.0</td>\n",
       "      <td>0</td>\n",
       "      <td>0</td>\n",
       "      <td>STON/O2. 3101282</td>\n",
       "      <td>7.9250</td>\n",
       "      <td>NaN</td>\n",
       "      <td>S</td>\n",
       "    </tr>\n",
       "    <tr>\n",
       "      <th>3</th>\n",
       "      <td>4</td>\n",
       "      <td>1</td>\n",
       "      <td>1</td>\n",
       "      <td>Futrelle, Mrs. Jacques Heath (Lily May Peel)</td>\n",
       "      <td>female</td>\n",
       "      <td>35.0</td>\n",
       "      <td>1</td>\n",
       "      <td>0</td>\n",
       "      <td>113803</td>\n",
       "      <td>53.1000</td>\n",
       "      <td>C123</td>\n",
       "      <td>S</td>\n",
       "    </tr>\n",
       "    <tr>\n",
       "      <th>4</th>\n",
       "      <td>5</td>\n",
       "      <td>0</td>\n",
       "      <td>3</td>\n",
       "      <td>Allen, Mr. William Henry</td>\n",
       "      <td>male</td>\n",
       "      <td>35.0</td>\n",
       "      <td>0</td>\n",
       "      <td>0</td>\n",
       "      <td>373450</td>\n",
       "      <td>8.0500</td>\n",
       "      <td>NaN</td>\n",
       "      <td>S</td>\n",
       "    </tr>\n",
       "  </tbody>\n",
       "</table>\n",
       "</div>"
      ],
      "text/plain": [
       "   PassengerId  Survived  Pclass  \\\n",
       "0            1         0       3   \n",
       "1            2         1       1   \n",
       "2            3         1       3   \n",
       "3            4         1       1   \n",
       "4            5         0       3   \n",
       "\n",
       "                                                Name     Sex   Age  SibSp  \\\n",
       "0                            Braund, Mr. Owen Harris    male  22.0      1   \n",
       "1  Cumings, Mrs. John Bradley (Florence Briggs Th...  female  38.0      1   \n",
       "2                             Heikkinen, Miss. Laina  female  26.0      0   \n",
       "3       Futrelle, Mrs. Jacques Heath (Lily May Peel)  female  35.0      1   \n",
       "4                           Allen, Mr. William Henry    male  35.0      0   \n",
       "\n",
       "   Parch            Ticket     Fare Cabin Embarked  \n",
       "0      0         A/5 21171   7.2500   NaN        S  \n",
       "1      0          PC 17599  71.2833   C85        C  \n",
       "2      0  STON/O2. 3101282   7.9250   NaN        S  \n",
       "3      0            113803  53.1000  C123        S  \n",
       "4      0            373450   8.0500   NaN        S  "
      ]
     },
     "metadata": {},
     "output_type": "display_data"
    }
   ],
   "source": [
    "import numpy as np\n",
    "import pandas as pd\n",
    "from titanic_visualization import survival_stats\n",
    "from IPython.display import display\n",
    "%matplotlib inline\n",
    "\n",
    "in_file=\"titanic_data.csv\"\n",
    "full_data=pd.read_csv(in_file)\n",
    "\n",
    "display(full_data.head())"
   ]
  },
  {
   "cell_type": "code",
   "execution_count": 6,
   "metadata": {
    "collapsed": false
   },
   "outputs": [
    {
     "data": {
      "text/plain": [
       "<bound method DataFrame.head of      PassengerId  Pclass                                               Name  \\\n",
       "0              1       3                            Braund, Mr. Owen Harris   \n",
       "1              2       1  Cumings, Mrs. John Bradley (Florence Briggs Th...   \n",
       "2              3       3                             Heikkinen, Miss. Laina   \n",
       "3              4       1       Futrelle, Mrs. Jacques Heath (Lily May Peel)   \n",
       "4              5       3                           Allen, Mr. William Henry   \n",
       "5              6       3                                   Moran, Mr. James   \n",
       "6              7       1                            McCarthy, Mr. Timothy J   \n",
       "7              8       3                     Palsson, Master. Gosta Leonard   \n",
       "8              9       3  Johnson, Mrs. Oscar W (Elisabeth Vilhelmina Berg)   \n",
       "9             10       2                Nasser, Mrs. Nicholas (Adele Achem)   \n",
       "10            11       3                    Sandstrom, Miss. Marguerite Rut   \n",
       "11            12       1                           Bonnell, Miss. Elizabeth   \n",
       "12            13       3                     Saundercock, Mr. William Henry   \n",
       "13            14       3                        Andersson, Mr. Anders Johan   \n",
       "14            15       3               Vestrom, Miss. Hulda Amanda Adolfina   \n",
       "15            16       2                   Hewlett, Mrs. (Mary D Kingcome)    \n",
       "16            17       3                               Rice, Master. Eugene   \n",
       "17            18       2                       Williams, Mr. Charles Eugene   \n",
       "18            19       3  Vander Planke, Mrs. Julius (Emelia Maria Vande...   \n",
       "19            20       3                            Masselmani, Mrs. Fatima   \n",
       "20            21       2                               Fynney, Mr. Joseph J   \n",
       "21            22       2                              Beesley, Mr. Lawrence   \n",
       "22            23       3                        McGowan, Miss. Anna \"Annie\"   \n",
       "23            24       1                       Sloper, Mr. William Thompson   \n",
       "24            25       3                      Palsson, Miss. Torborg Danira   \n",
       "25            26       3  Asplund, Mrs. Carl Oscar (Selma Augusta Emilia...   \n",
       "26            27       3                            Emir, Mr. Farred Chehab   \n",
       "27            28       1                     Fortune, Mr. Charles Alexander   \n",
       "28            29       3                      O'Dwyer, Miss. Ellen \"Nellie\"   \n",
       "29            30       3                                Todoroff, Mr. Lalio   \n",
       "..           ...     ...                                                ...   \n",
       "861          862       2                        Giles, Mr. Frederick Edward   \n",
       "862          863       1  Swift, Mrs. Frederick Joel (Margaret Welles Ba...   \n",
       "863          864       3                  Sage, Miss. Dorothy Edith \"Dolly\"   \n",
       "864          865       2                             Gill, Mr. John William   \n",
       "865          866       2                           Bystrom, Mrs. (Karolina)   \n",
       "866          867       2                       Duran y More, Miss. Asuncion   \n",
       "867          868       1               Roebling, Mr. Washington Augustus II   \n",
       "868          869       3                        van Melkebeke, Mr. Philemon   \n",
       "869          870       3                    Johnson, Master. Harold Theodor   \n",
       "870          871       3                                  Balkic, Mr. Cerin   \n",
       "871          872       1   Beckwith, Mrs. Richard Leonard (Sallie Monypeny)   \n",
       "872          873       1                           Carlsson, Mr. Frans Olof   \n",
       "873          874       3                        Vander Cruyssen, Mr. Victor   \n",
       "874          875       2              Abelson, Mrs. Samuel (Hannah Wizosky)   \n",
       "875          876       3                   Najib, Miss. Adele Kiamie \"Jane\"   \n",
       "876          877       3                      Gustafsson, Mr. Alfred Ossian   \n",
       "877          878       3                               Petroff, Mr. Nedelio   \n",
       "878          879       3                                 Laleff, Mr. Kristo   \n",
       "879          880       1      Potter, Mrs. Thomas Jr (Lily Alexenia Wilson)   \n",
       "880          881       2       Shelley, Mrs. William (Imanita Parrish Hall)   \n",
       "881          882       3                                 Markun, Mr. Johann   \n",
       "882          883       3                       Dahlberg, Miss. Gerda Ulrika   \n",
       "883          884       2                      Banfield, Mr. Frederick James   \n",
       "884          885       3                             Sutehall, Mr. Henry Jr   \n",
       "885          886       3               Rice, Mrs. William (Margaret Norton)   \n",
       "886          887       2                              Montvila, Rev. Juozas   \n",
       "887          888       1                       Graham, Miss. Margaret Edith   \n",
       "888          889       3           Johnston, Miss. Catherine Helen \"Carrie\"   \n",
       "889          890       1                              Behr, Mr. Karl Howell   \n",
       "890          891       3                                Dooley, Mr. Patrick   \n",
       "\n",
       "        Sex   Age  SibSp  Parch            Ticket      Fare        Cabin  \\\n",
       "0      male  22.0      1      0         A/5 21171    7.2500          NaN   \n",
       "1    female  38.0      1      0          PC 17599   71.2833          C85   \n",
       "2    female  26.0      0      0  STON/O2. 3101282    7.9250          NaN   \n",
       "3    female  35.0      1      0            113803   53.1000         C123   \n",
       "4      male  35.0      0      0            373450    8.0500          NaN   \n",
       "5      male   NaN      0      0            330877    8.4583          NaN   \n",
       "6      male  54.0      0      0             17463   51.8625          E46   \n",
       "7      male   2.0      3      1            349909   21.0750          NaN   \n",
       "8    female  27.0      0      2            347742   11.1333          NaN   \n",
       "9    female  14.0      1      0            237736   30.0708          NaN   \n",
       "10   female   4.0      1      1           PP 9549   16.7000           G6   \n",
       "11   female  58.0      0      0            113783   26.5500         C103   \n",
       "12     male  20.0      0      0         A/5. 2151    8.0500          NaN   \n",
       "13     male  39.0      1      5            347082   31.2750          NaN   \n",
       "14   female  14.0      0      0            350406    7.8542          NaN   \n",
       "15   female  55.0      0      0            248706   16.0000          NaN   \n",
       "16     male   2.0      4      1            382652   29.1250          NaN   \n",
       "17     male   NaN      0      0            244373   13.0000          NaN   \n",
       "18   female  31.0      1      0            345763   18.0000          NaN   \n",
       "19   female   NaN      0      0              2649    7.2250          NaN   \n",
       "20     male  35.0      0      0            239865   26.0000          NaN   \n",
       "21     male  34.0      0      0            248698   13.0000          D56   \n",
       "22   female  15.0      0      0            330923    8.0292          NaN   \n",
       "23     male  28.0      0      0            113788   35.5000           A6   \n",
       "24   female   8.0      3      1            349909   21.0750          NaN   \n",
       "25   female  38.0      1      5            347077   31.3875          NaN   \n",
       "26     male   NaN      0      0              2631    7.2250          NaN   \n",
       "27     male  19.0      3      2             19950  263.0000  C23 C25 C27   \n",
       "28   female   NaN      0      0            330959    7.8792          NaN   \n",
       "29     male   NaN      0      0            349216    7.8958          NaN   \n",
       "..      ...   ...    ...    ...               ...       ...          ...   \n",
       "861    male  21.0      1      0             28134   11.5000          NaN   \n",
       "862  female  48.0      0      0             17466   25.9292          D17   \n",
       "863  female   NaN      8      2          CA. 2343   69.5500          NaN   \n",
       "864    male  24.0      0      0            233866   13.0000          NaN   \n",
       "865  female  42.0      0      0            236852   13.0000          NaN   \n",
       "866  female  27.0      1      0     SC/PARIS 2149   13.8583          NaN   \n",
       "867    male  31.0      0      0          PC 17590   50.4958          A24   \n",
       "868    male   NaN      0      0            345777    9.5000          NaN   \n",
       "869    male   4.0      1      1            347742   11.1333          NaN   \n",
       "870    male  26.0      0      0            349248    7.8958          NaN   \n",
       "871  female  47.0      1      1             11751   52.5542          D35   \n",
       "872    male  33.0      0      0               695    5.0000  B51 B53 B55   \n",
       "873    male  47.0      0      0            345765    9.0000          NaN   \n",
       "874  female  28.0      1      0         P/PP 3381   24.0000          NaN   \n",
       "875  female  15.0      0      0              2667    7.2250          NaN   \n",
       "876    male  20.0      0      0              7534    9.8458          NaN   \n",
       "877    male  19.0      0      0            349212    7.8958          NaN   \n",
       "878    male   NaN      0      0            349217    7.8958          NaN   \n",
       "879  female  56.0      0      1             11767   83.1583          C50   \n",
       "880  female  25.0      0      1            230433   26.0000          NaN   \n",
       "881    male  33.0      0      0            349257    7.8958          NaN   \n",
       "882  female  22.0      0      0              7552   10.5167          NaN   \n",
       "883    male  28.0      0      0  C.A./SOTON 34068   10.5000          NaN   \n",
       "884    male  25.0      0      0   SOTON/OQ 392076    7.0500          NaN   \n",
       "885  female  39.0      0      5            382652   29.1250          NaN   \n",
       "886    male  27.0      0      0            211536   13.0000          NaN   \n",
       "887  female  19.0      0      0            112053   30.0000          B42   \n",
       "888  female   NaN      1      2        W./C. 6607   23.4500          NaN   \n",
       "889    male  26.0      0      0            111369   30.0000         C148   \n",
       "890    male  32.0      0      0            370376    7.7500          NaN   \n",
       "\n",
       "    Embarked  \n",
       "0          S  \n",
       "1          C  \n",
       "2          S  \n",
       "3          S  \n",
       "4          S  \n",
       "5          Q  \n",
       "6          S  \n",
       "7          S  \n",
       "8          S  \n",
       "9          C  \n",
       "10         S  \n",
       "11         S  \n",
       "12         S  \n",
       "13         S  \n",
       "14         S  \n",
       "15         S  \n",
       "16         Q  \n",
       "17         S  \n",
       "18         S  \n",
       "19         C  \n",
       "20         S  \n",
       "21         S  \n",
       "22         Q  \n",
       "23         S  \n",
       "24         S  \n",
       "25         S  \n",
       "26         C  \n",
       "27         S  \n",
       "28         Q  \n",
       "29         S  \n",
       "..       ...  \n",
       "861        S  \n",
       "862        S  \n",
       "863        S  \n",
       "864        S  \n",
       "865        S  \n",
       "866        C  \n",
       "867        S  \n",
       "868        S  \n",
       "869        S  \n",
       "870        S  \n",
       "871        S  \n",
       "872        S  \n",
       "873        S  \n",
       "874        C  \n",
       "875        C  \n",
       "876        S  \n",
       "877        S  \n",
       "878        S  \n",
       "879        C  \n",
       "880        S  \n",
       "881        S  \n",
       "882        S  \n",
       "883        S  \n",
       "884        S  \n",
       "885        Q  \n",
       "886        S  \n",
       "887        S  \n",
       "888        S  \n",
       "889        C  \n",
       "890        Q  \n",
       "\n",
       "[891 rows x 11 columns]>"
      ]
     },
     "metadata": {},
     "output_type": "display_data"
    }
   ],
   "source": [
    "outcomes=full_data['Survived']\n",
    "data=full_data.drop('Survived',axis=1)\n",
    "\n",
    "display(data.head)"
   ]
  },
  {
   "cell_type": "code",
   "execution_count": 7,
   "metadata": {
    "collapsed": false
   },
   "outputs": [
    {
     "name": "stdout",
     "output_type": "stream",
     "text": [
      "prediction have an accuracy of 60.00%.\n"
     ]
    }
   ],
   "source": [
    "def accuracy_score(truth,pred):\n",
    "    if len(truth)==len(pred):\n",
    "        return 'prediction have an accuracy of {:.2f}%.'.format((truth==pred).mean()*100)\n",
    "    else:\n",
    "        return 'Number of predictions does not match number of outcomes!'\n",
    "    \n",
    "    \n",
    "predictions=pd.Series(np.ones(5,dtype=int))\n",
    "print accuracy_score(outcomes[:5],predictions)\n"
   ]
  },
  {
   "cell_type": "code",
   "execution_count": 8,
   "metadata": {
    "collapsed": true
   },
   "outputs": [],
   "source": [
    "def predictions_0(data):\n",
    "    predictions=[]\n",
    "    for _,passenger in data.iterrows():\n",
    "        predictions.append(0)\n",
    "        \n",
    "    return pd.Series(predictions)\n",
    "\n",
    "\n",
    "predictions=predictions_0(data)"
   ]
  },
  {
   "cell_type": "code",
   "execution_count": 9,
   "metadata": {
    "collapsed": false
   },
   "outputs": [
    {
     "name": "stdout",
     "output_type": "stream",
     "text": [
      "prediction have an accuracy of 61.62%.\n"
     ]
    }
   ],
   "source": [
    "print accuracy_score(outcomes,predictions)"
   ]
  },
  {
   "cell_type": "code",
   "execution_count": 10,
   "metadata": {
    "collapsed": false
   },
   "outputs": [
    {
     "data": {
      "image/png": "[encoded data removed]",
      "text/plain": [
       "<matplotlib.figure.Figure at 0x112d24f90>"
      ]
     },
     "metadata": {},
     "output_type": "display_data"
    }
   ],
   "source": [
    "survival_stats(data,outcomes,'Sex')"
   ]
  },
  {
   "cell_type": "code",
   "execution_count": 26,
   "metadata": {
    "collapsed": false
   },
   "outputs": [],
   "source": [
    "def predictions_1(data):\n",
    "    predictions=[]\n",
    "    for _,passenger in data.iterrows():\n",
    "        if passenger[\"Sex\"]==\"female\":\n",
    "            predictions.append(1)\n",
    "        else:\n",
    "            predictions.append(0)\n",
    "    return pd.Series(predictions)\n",
    "\n",
    "predictions=predictions_1(data)\n",
    "\n",
    "                "
   ]
  },
  {
   "cell_type": "code",
   "execution_count": 27,
   "metadata": {
    "collapsed": false
   },
   "outputs": [
    {
     "name": "stdout",
     "output_type": "stream",
     "text": [
      "prediction have an accuracy of 78.68%.\n"
     ]
    }
   ],
   "source": [
    "print accuracy_score(outcomes,predictions)"
   ]
  },
  {
   "cell_type": "code",
   "execution_count": null,
   "metadata": {
    "collapsed": true
   },
   "outputs": [],
   "source": [
    "survival_stats(data,outcomes,\"Age\",[\"Sex=='male'\"])"
   ]
  },
  {
   "cell_type": "code",
   "execution_count": 30,
   "metadata": {
    "collapsed": false
   },
   "outputs": [],
   "source": [
    "def predictions_2(data):\n",
    "    predictions=[]\n",
    "    for _, passenger in data.iterrows():\n",
    "        if passenger[\"Sex\"]==\"female\":\n",
    "            predictions.append(1)\n",
    "        elif passenger[\"Sex\"] == \"male\" and passenger[\"Age\"] <10:\n",
    "            predictions.append(1)\n",
    "        else:\n",
    "            predictions.append(0)\n",
    "            \n",
    "            \n",
    "    return pd.Series(predictions)        \n",
    "\n",
    "\n",
    "predictions=predictions_2(data)\n",
    "        "
   ]
  },
  {
   "cell_type": "code",
   "execution_count": 31,
   "metadata": {
    "collapsed": false
   },
   "outputs": [
    {
     "name": "stdout",
     "output_type": "stream",
     "text": [
      "prediction have an accuracy of 79.35%.\n"
     ]
    }
   ],
   "source": [
    "print accuracy_score(outcomes,predictions)"
   ]
  },
  {
   "cell_type": "code",
   "execution_count": null,
   "metadata": {
    "collapsed": true
   },
   "outputs": [],
   "source": [
    "survival_stats(data,outcomes,\"Age\",[\"Sex=='male'\",\"Age<18\"])"
   ]
  },
  {
   "cell_type": "code",
   "execution_count": 33,
   "metadata": {
    "collapsed": false
   },
   "outputs": [
    {
     "name": "stdout",
     "output_type": "stream",
     "text": [
      "prediction have an accuracy of 77.33%.\n"
     ]
    }
   ],
   "source": [
    "def predictions_3(data):\n",
    "    predictions=[]\n",
    "    for _, passenger in data.iterrows():\n",
    "        if passenger[\"Sex\"]==\"female\":\n",
    "            predictions.append(1)\n",
    "        elif passenger[\"Sex\"] == \"male\" and passenger[\"Age\"] <18:\n",
    "            predictions.append(1)\n",
    "        else:\n",
    "            predictions.append(0)\n",
    "            \n",
    "            \n",
    "    return pd.Series(predictions)        \n",
    "\n",
    "\n",
    "predictions=predictions_3(data)\n",
    "print accuracy_score(outcomes,predictions)        "
   ]
  }
 ],
 "metadata": {
  "anaconda-cloud": {},
  "kernelspec": {
   "display_name": "Python [Root]",
   "language": "python",
   "name": "Python [Root]"
  },
  "language_info": {
   "codemirror_mode": {
    "name": "ipython",
    "version": 2
   },
   "file_extension": ".py",
   "mimetype": "text/x-python",
   "name": "python",
   "nbconvert_exporter": "python",
   "pygments_lexer": "ipython2",
   "version": "2.7.12"
  }
 },
 "nbformat": 4,
 "nbformat_minor": 0
}
